{
 "cells": [
  {
   "cell_type": "markdown",
   "metadata": {},
   "source": [
    "# Join Statements - Lab\n",
    "\n",
    "## Introduction\n",
    "\n",
    "In this lab, you'll practice your knowledge of `JOIN` statements, using various types of joins and various methods for specifying the links between them.\n",
    "\n",
    "## Objectives\n",
    "\n",
    "You will be able to:\n",
    "\n",
    "* Write SQL queries that make use of various types of joins\n",
    "* Compare and contrast the various types of joins\n",
    "* Discuss how primary and foreign keys are used in SQL\n",
    "* Decide and perform whichever type of join is best for retrieving desired data"
   ]
  },
  {
   "cell_type": "markdown",
   "metadata": {},
   "source": [
    "## CRM ERD\n",
    "\n",
    "In this lab, you'll use the same customer relationship management (CRM) database that you saw from the previous lesson.\n",
    "<img src='https://curriculum-content.s3.amazonaws.com/data-science/images/Database-Schema.png' width=\"600\">"
   ]
  },
  {
   "cell_type": "markdown",
   "metadata": {},
   "source": [
    "## Connecting to the Database\n",
    "Import the necessary packages and connect to the database `'data.sqlite'`."
   ]
  },
  {
   "cell_type": "code",
   "execution_count": 17,
   "metadata": {},
   "outputs": [],
   "source": [
    "# Your code here\n",
    "import pandas as pd \n",
    "import sqlite3 \n",
    "conn = sqlite3.connect(\"data.sqlite.db\")\n",
    "cur = conn.cursor()\n"
   ]
  },
  {
   "cell_type": "code",
   "execution_count": 20,
   "metadata": {},
   "outputs": [
    {
     "data": {
      "text/html": [
       "<div>\n",
       "<style scoped>\n",
       "    .dataframe tbody tr th:only-of-type {\n",
       "        vertical-align: middle;\n",
       "    }\n",
       "\n",
       "    .dataframe tbody tr th {\n",
       "        vertical-align: top;\n",
       "    }\n",
       "\n",
       "    .dataframe thead th {\n",
       "        text-align: right;\n",
       "    }\n",
       "</style>\n",
       "<table border=\"1\" class=\"dataframe\">\n",
       "  <thead>\n",
       "    <tr style=\"text-align: right;\">\n",
       "      <th></th>\n",
       "      <th>name</th>\n",
       "    </tr>\n",
       "  </thead>\n",
       "  <tbody>\n",
       "    <tr>\n",
       "      <th>0</th>\n",
       "      <td>customers</td>\n",
       "    </tr>\n",
       "    <tr>\n",
       "      <th>1</th>\n",
       "      <td>employees</td>\n",
       "    </tr>\n",
       "    <tr>\n",
       "      <th>2</th>\n",
       "      <td>offices</td>\n",
       "    </tr>\n",
       "    <tr>\n",
       "      <th>3</th>\n",
       "      <td>orderdetails</td>\n",
       "    </tr>\n",
       "    <tr>\n",
       "      <th>4</th>\n",
       "      <td>orders</td>\n",
       "    </tr>\n",
       "    <tr>\n",
       "      <th>5</th>\n",
       "      <td>payments</td>\n",
       "    </tr>\n",
       "    <tr>\n",
       "      <th>6</th>\n",
       "      <td>productlines</td>\n",
       "    </tr>\n",
       "    <tr>\n",
       "      <th>7</th>\n",
       "      <td>products</td>\n",
       "    </tr>\n",
       "  </tbody>\n",
       "</table>\n",
       "</div>"
      ],
      "text/plain": [
       "           name\n",
       "0     customers\n",
       "1     employees\n",
       "2       offices\n",
       "3  orderdetails\n",
       "4        orders\n",
       "5      payments\n",
       "6  productlines\n",
       "7      products"
      ]
     },
     "execution_count": 20,
     "metadata": {},
     "output_type": "execute_result"
    }
   ],
   "source": [
    "# ...existing code...\n",
    "import pandas as pd\n",
    "import sqlite3\n",
    "\n",
    "db_path = r\"c:\\Users\\DAMA\\downloads\\dsc-join-statements-lab\\data.sqlite\"\n",
    "conn = sqlite3.connect(db_path)\n",
    "cur = conn.cursor()\n",
    "\n",
    "# quick test: list tables\n",
    "pd.read_sql_query(\"SELECT name FROM sqlite_master WHERE type='table' ORDER BY name;\", conn)\n",
    "\n",
    "# remember to close when finished\n",
    "# conn.close()\n",
    "# ...existing code..."
   ]
  },
  {
   "cell_type": "markdown",
   "metadata": {},
   "source": [
    "## Select the names of all employees in Boston \n",
    "\n",
    "Hint: join the employees and offices tables. Select the first and last name."
   ]
  },
  {
   "cell_type": "code",
   "execution_count": null,
   "metadata": {},
   "outputs": [
    {
     "name": "stdout",
     "output_type": "stream",
     "text": [
      "  firstName   lastName\n",
      "0     Julie   Firrelli\n",
      "1     Steve  Patterson\n"
     ]
    }
   ],
   "source": [
    "# Your code here\n",
    "import pandas as pd\n",
    "import sqlite3\n",
    "\n",
    "db_path = r\"c:\\Users\\DAMA\\downloads\\dsc-join-statements-lab\\data.sqlite\"\n",
    "conn = sqlite3.connect(db_path)\n",
    "\n",
    "query = \"\"\"\n",
    "SELECT e.firstName, e.lastName\n",
    "FROM employees e\n",
    "JOIN offices o ON e.officeCode = o.officeCode\n",
    "WHERE o.city = 'Boston';\n",
    "\"\"\"\n",
    "\n",
    "df = pd.read_sql_query(query, conn)\n",
    "print(df)\n",
    "\n"
   ]
  },
  {
   "cell_type": "markdown",
   "metadata": {},
   "source": [
    "## Are there any offices that have zero employees?\n",
    "Hint: Combine the employees and offices tables and use a group by. Select the office code, city, and number of employees."
   ]
  },
  {
   "cell_type": "code",
   "execution_count": 24,
   "metadata": {},
   "outputs": [
    {
     "name": "stdout",
     "output_type": "stream",
     "text": [
      "   officeCode    city  num_employees\n",
      "0          27  Boston              0\n"
     ]
    }
   ],
   "source": [
    "# Your code here\n",
    "db_path = r\"c:\\Users\\DAMA\\downloads\\dsc-join-statements-lab\\data.sqlite\"\n",
    "conn = sqlite3.connect(db_path)\n",
    "\n",
    "query = \"\"\"\n",
    "SELECT o.officeCode, o.city,\n",
    "       COUNT(e.employeeNumber) AS num_employees\n",
    "FROM offices o\n",
    "LEFT JOIN employees e ON o.officeCode = e.officeCode\n",
    "GROUP BY o.officeCode, o.city\n",
    "HAVING COUNT(e.employeeNumber) = 0;\n",
    "\"\"\"\n",
    "\n",
    "df = pd.read_sql_query(query, conn)\n",
    "print(df)\n"
   ]
  },
  {
   "cell_type": "markdown",
   "metadata": {},
   "source": [
    "## Write 3 questions of your own and answer them"
   ]
  },
  {
   "cell_type": "code",
   "execution_count": 28,
   "metadata": {},
   "outputs": [
    {
     "name": "stdout",
     "output_type": "stream",
     "text": [
      "   officeCode           city  num_customers\n",
      "0           4          Paris             29\n",
      "1           7         London             17\n",
      "2           3            NYC             15\n",
      "3           1  San Francisco             12\n",
      "4           2         Boston             12\n",
      "5           6         Sydney             10\n",
      "6           5          Tokyo              5\n",
      "7          27         Boston              0\n"
     ]
    }
   ],
   "source": [
    "# Answers will vary\n",
    "\n",
    "# Example question: \n",
    "\"\"\"\n",
    "How many customers are there per office?\n",
    "\"\"\" \n",
    "\n",
    "db_path = r\"c:\\Users\\DAMA\\downloads\\dsc-join-statements-lab\\data.sqlite\"\n",
    "conn = sqlite3.connect(db_path)\n",
    "\n",
    "query = \"\"\"\n",
    "SELECT o.officeCode,\n",
    "       o.city,\n",
    "       COUNT(c.customerNumber) AS num_customers\n",
    "FROM offices o\n",
    "LEFT JOIN employees e ON o.officeCode = e.officeCode\n",
    "LEFT JOIN customers c ON e.employeeNumber = c.salesRepEmployeeNumber\n",
    "GROUP BY o.officeCode, o.city\n",
    "ORDER BY num_customers DESC;\n",
    "\"\"\"\n",
    "\n",
    "df = pd.read_sql_query(query, conn)\n",
    "print(df)\n",
    "\n",
    "# ...existing code..."
   ]
  },
  {
   "cell_type": "code",
   "execution_count": 33,
   "metadata": {},
   "outputs": [
    {
     "name": "stdout",
     "output_type": "stream",
     "text": [
      "   employeeNumber firstName   lastName  num_customers\n",
      "0            1401    Pamela   Castillo             10\n",
      "1            1504     Barry      Jones              9\n",
      "2            1323    George     Vanauf              8\n",
      "3            1501     Larry       Bott              8\n",
      "4            1286  Foon Yue      Tseng              7\n",
      "5            1370    Gerard  Hernandez              7\n",
      "6            1165    Leslie   Jennings              6\n",
      "7            1166    Leslie   Thompson              6\n",
      "8            1188     Julie   Firrelli              6\n",
      "9            1216     Steve  Patterson              6\n"
     ]
    }
   ],
   "source": [
    "\"\"\"\n",
    "Question 1\n",
    "Which employees have the most customers? show employee id, first/last name, and count of customers(top 10)\n",
    "\"\"\"\n",
    "\n",
    "# Your code here\n",
    "db_path = r\"c:\\Users\\DAMA\\downloads\\dsc-join-statements-lab\\data.sqlite\"\n",
    "conn = sqlite3.connect(db_path)\n",
    "\n",
    "query = \"\"\"\n",
    "SELECT e.employeeNumber,\n",
    "       e.firstName,\n",
    "       e.lastName,\n",
    "       COUNT(c.customerNumber) AS num_customers\n",
    "FROM employees e\n",
    "LEFT JOIN customers c ON e.employeeNumber = c.salesRepEmployeeNumber\n",
    "GROUP BY e.employeeNumber, e.firstName, e.lastName\n",
    "ORDER BY num_customers DESC\n",
    "LIMIT 10;\n",
    "\"\"\"\n",
    "\n",
    "df = pd.read_sql_query(query, conn)\n",
    "print(df)"
   ]
  },
  {
   "cell_type": "code",
   "execution_count": 34,
   "metadata": {},
   "outputs": [
    {
     "name": "stdout",
     "output_type": "stream",
     "text": [
      "  productCode                              productName  total_quantity_sold\n",
      "0    S18_3232              1992 Ferrari 360 Spider red                 1808\n",
      "1    S18_1342                     1937 Lincoln Berline                 1111\n",
      "2   S700_4002                American Airlines: MD-11S                 1085\n",
      "3    S18_3856  1941 Chevrolet Special Deluxe Cabriolet                 1076\n",
      "4    S50_1341             1930 Buick Marquette Phaeton                 1074\n"
     ]
    }
   ],
   "source": [
    "\"\"\"\n",
    "Question 2\n",
    "Top 5 products by total quantity sold.\n",
    "\"\"\"\n",
    "\n",
    "# Your code here\n",
    "db_path = r\"c:\\Users\\DAMA\\downloads\\dsc-join-statements-lab\\data.sqlite\"\n",
    "conn = sqlite3.connect(db_path)\n",
    "\n",
    "query = \"\"\"\n",
    "SELECT p.productCode,\n",
    "       p.productName,\n",
    "       SUM(od.quantityOrdered) AS total_quantity_sold\n",
    "FROM products p\n",
    "LEFT JOIN orderdetails od ON p.productCode = od.productCode\n",
    "GROUP BY p.productCode, p.productName\n",
    "ORDER BY total_quantity_sold DESC\n",
    "LIMIT 5;\n",
    "\"\"\"\n",
    "\n",
    "df = pd.read_sql_query(query, conn)\n",
    "print(df)"
   ]
  },
  {
   "cell_type": "code",
   "execution_count": 35,
   "metadata": {},
   "outputs": [
    {
     "name": "stdout",
     "output_type": "stream",
     "text": [
      "   customerNumber                  customerName  total_spent\n",
      "0             141        Euro+ Shopping Channel    820689.54\n",
      "1             124  Mini Gifts Distributors Ltd.    591827.34\n",
      "2             114    Australian Collectors, Co.    180585.07\n",
      "3             151            Muscle Machine Inc    177913.95\n",
      "4             119             La Rochelle Gifts    158573.12\n",
      "5             148       Dragon Souveniers, Ltd.    156251.03\n",
      "6             323    Down Under Souveniers, Inc    154622.08\n",
      "7             131             Land of Toys Inc.    149085.15\n",
      "8             187                AV Stores, Co.    148410.09\n",
      "9             450     The Sharp Gifts Warehouse    143536.27\n"
     ]
    }
   ],
   "source": [
    "\"\"\"\n",
    "Question 3\n",
    "Which customers have spent the most (total order value)? Show top 10.\n",
    "\"\"\"\n",
    "\n",
    "# Your code here\n",
    "\n",
    "db_path = r\"c:\\Users\\DAMA\\downloads\\dsc-join-statements-lab\\data.sqlite\"\n",
    "conn = sqlite3.connect(db_path)\n",
    "\n",
    "query = \"\"\"\n",
    "SELECT c.customerNumber,\n",
    "       c.customerName,\n",
    "       ROUND(SUM(od.quantityOrdered * od.priceEach), 2) AS total_spent\n",
    "FROM customers c\n",
    "JOIN orders o ON c.customerNumber = o.customerNumber\n",
    "JOIN orderdetails od ON o.orderNumber = od.orderNumber\n",
    "GROUP BY c.customerNumber, c.customerName\n",
    "ORDER BY total_spent DESC\n",
    "LIMIT 10;\n",
    "\"\"\"\n",
    "\n",
    "df = pd.read_sql_query(query, conn)\n",
    "print(df)\n",
    "# ...existing code..."
   ]
  },
  {
   "cell_type": "markdown",
   "metadata": {},
   "source": [
    "## Level Up 1: Display the names of every individual product that each employee has sold\n",
    "\n",
    "Hint: You will need to use multiple `JOIN` clauses to connect all the way from employee names to product names."
   ]
  },
  {
   "cell_type": "code",
   "execution_count": 36,
   "metadata": {},
   "outputs": [
    {
     "name": "stdout",
     "output_type": "stream",
     "text": [
      "      employeeNumber firstName lastName                productName\n",
      "0               1337      Loui   Bondur      18th century schooner\n",
      "1               1337      Loui   Bondur     1900s Vintage Bi-Plane\n",
      "2               1337      Loui   Bondur    1900s Vintage Tri-Plane\n",
      "3               1337      Loui   Bondur          1903 Ford Model A\n",
      "4               1337      Loui   Bondur        1904 Buick Runabout\n",
      "...              ...       ...      ...                        ...\n",
      "1363            1323    George   Vanauf              The Mayflower\n",
      "1364            1323    George   Vanauf             The Queen Mary\n",
      "1365            1323    George   Vanauf      The Schooner Bluenose\n",
      "1366            1323    George   Vanauf                The Titanic\n",
      "1367            1323    George   Vanauf  The USS Constitution Ship\n",
      "\n",
      "[1368 rows x 4 columns]\n"
     ]
    }
   ],
   "source": [
    "# Your code here\n",
    "\n",
    "db_path = r\"c:\\Users\\DAMA\\downloads\\dsc-join-statements-lab\\data.sqlite\"\n",
    "conn = sqlite3.connect(db_path)\n",
    "\n",
    "query = \"\"\"\n",
    "SELECT DISTINCT\n",
    "       e.employeeNumber,\n",
    "       e.firstName,\n",
    "       e.lastName,\n",
    "       p.productName\n",
    "FROM employees e\n",
    "JOIN customers c ON e.employeeNumber = c.salesRepEmployeeNumber\n",
    "JOIN orders o ON c.customerNumber = o.customerNumber\n",
    "JOIN orderdetails od ON o.orderNumber = od.orderNumber\n",
    "JOIN products p ON od.productCode = p.productCode\n",
    "ORDER BY e.lastName, e.firstName, p.productName;\n",
    "\"\"\"\n",
    "\n",
    "df = pd.read_sql_query(query, conn)\n",
    "print(df)"
   ]
  },
  {
   "cell_type": "markdown",
   "metadata": {},
   "source": [
    "## Level Up 2: Display the number of products each employee has sold\n",
    "\n",
    "Alphabetize the results by employee last name.\n",
    "\n",
    "Hint: Use the `quantityOrdered` column from `orderDetails`. Also, think about how to group the data when some employees might have the same first or last name."
   ]
  },
  {
   "cell_type": "code",
   "execution_count": 38,
   "metadata": {},
   "outputs": [
    {
     "name": "stdout",
     "output_type": "stream",
     "text": [
      "    employeeNumber firstName   lastName  total_products_sold\n",
      "0             1102    Gerard     Bondur                    0\n",
      "1             1337      Loui     Bondur                 6186\n",
      "2             1501     Larry       Bott                 8205\n",
      "3             1143   Anthony        Bow                    0\n",
      "4             1401    Pamela   Castillo                 9290\n",
      "5             1076      Jeff   Firrelli                    0\n",
      "6             1188     Julie   Firrelli                 4227\n",
      "7             1611      Andy     Fixter                 6246\n",
      "8             1702    Martin     Gerard                 4180\n",
      "9             1370    Gerard  Hernandez                14231\n",
      "10            1165    Leslie   Jennings                11854\n",
      "11            1504     Barry      Jones                 7486\n",
      "12            1625   Yoshimi       Kato                    0\n",
      "13            1619       Tom       King                    0\n",
      "14            1612     Peter      Marsh                 6632\n",
      "15            1002     Diane     Murphy                    0\n",
      "16            1621      Mami      Nishi                 4923\n",
      "17            1056      Mary  Patterson                    0\n",
      "18            1216     Steve  Patterson                 5561\n",
      "19            1088   William  Patterson                    0\n",
      "20            1166    Leslie   Thompson                 4056\n",
      "21            1286  Foon Yue      Tseng                 5016\n",
      "22            1323    George     Vanauf                 7423\n"
     ]
    }
   ],
   "source": [
    "# Your code here\n",
    "\n",
    "db_path = r\"c:\\Users\\DAMA\\downloads\\dsc-join-statements-lab\\data.sqlite\"\n",
    "conn = sqlite3.connect(db_path)\n",
    "\n",
    "query = \"\"\"\n",
    "SELECT e.employeeNumber,\n",
    "       e.firstName,\n",
    "       e.lastName,\n",
    "       COALESCE(SUM(od.quantityOrdered), 0) AS total_products_sold\n",
    "FROM employees e\n",
    "LEFT JOIN customers c ON e.employeeNumber = c.salesRepEmployeeNumber\n",
    "LEFT JOIN orders o ON c.customerNumber = o.customerNumber\n",
    "LEFT JOIN orderdetails od ON o.orderNumber = od.orderNumber\n",
    "GROUP BY e.employeeNumber, e.firstName, e.lastName\n",
    "ORDER BY e.lastName, e.firstName;\n",
    "\"\"\"\n",
    "\n",
    "df = pd.read_sql_query(query, conn)\n",
    "print(df)\n",
    "\n",
    "\n",
    "db_path = r\"c:\\Users\\DAMA\\downloads\\dsc-join-statements-lab\\data.sqlite\"\n",
    "conn = sqlite3.connect(db_path)\n"
   ]
  },
  {
   "cell_type": "markdown",
   "metadata": {},
   "source": [
    "## Level Up 3: Display the names employees who have sold more than 200 different products\n",
    "\n",
    "Hint: this is different from the previous question because the quantity sold doesn't matter, only the number of different products"
   ]
  },
  {
   "cell_type": "code",
   "execution_count": 43,
   "metadata": {},
   "outputs": [
    {
     "name": "stdout",
     "output_type": "stream",
     "text": [
      "Empty DataFrame\n",
      "Columns: [employeeNumber, firstName, lastName, num_distinct_products]\n",
      "Index: []\n"
     ]
    }
   ],
   "source": [
    "# Your code here\n",
    "\n",
    "db_path = r\"c:\\Users\\DAMA\\downloads\\dsc-join-statements-lab\\data.sqlite\"\n",
    "conn = sqlite3.connect(db_path)\n",
    "\n",
    "query = \"\"\"\n",
    "SELECT e.employeeNumber,\n",
    "       e.firstName,\n",
    "       e.lastName,\n",
    "       COUNT(DISTINCT od.productCode) AS num_distinct_products\n",
    "FROM employees e\n",
    "JOIN customers c ON e.employeeNumber = c.salesRepEmployeeNumber\n",
    "JOIN orders o ON c.customerNumber = o.customerNumber\n",
    "JOIN orderdetails od ON o.orderNumber = od.orderNumber\n",
    "GROUP BY e.employeeNumber, e.firstName, e.lastName\n",
    "HAVING COUNT(DISTINCT od.productCode) > 200\n",
    "ORDER BY num_distinct_products DESC;\n",
    "\"\"\"\n",
    "\n",
    "df = pd.read_sql_query(query, conn)\n",
    "print(df)"
   ]
  },
  {
   "cell_type": "markdown",
   "metadata": {},
   "source": [
    "No employee has sold >200 distinct products"
   ]
  },
  {
   "cell_type": "markdown",
   "metadata": {},
   "source": [
    "## Summary"
   ]
  },
  {
   "cell_type": "markdown",
   "metadata": {},
   "source": [
    "Congrats! You practiced using join statements and leveraged your foreign keys knowledge!"
   ]
  }
 ],
 "metadata": {
  "kernelspec": {
   "display_name": "base",
   "language": "python",
   "name": "python3"
  },
  "language_info": {
   "codemirror_mode": {
    "name": "ipython",
    "version": 3
   },
   "file_extension": ".py",
   "mimetype": "text/x-python",
   "name": "python",
   "nbconvert_exporter": "python",
   "pygments_lexer": "ipython3",
   "version": "3.11.7"
  },
  "toc": {
   "base_numbering": 1,
   "nav_menu": {},
   "number_sections": true,
   "sideBar": true,
   "skip_h1_title": false,
   "title_cell": "Table of Contents",
   "title_sidebar": "Contents",
   "toc_cell": false,
   "toc_position": {},
   "toc_section_display": true,
   "toc_window_display": false
  }
 },
 "nbformat": 4,
 "nbformat_minor": 2
}
